{
 "cells": [
  {
   "cell_type": "code",
   "execution_count": 1,
   "metadata": {},
   "outputs": [
    {
     "data": {
      "text/plain": [
       "10101"
      ]
     },
     "execution_count": 1,
     "metadata": {},
     "output_type": "execute_result"
    }
   ],
   "source": [
    "1. #program to convert decimal number to binary number\n",
    "\n",
    "def dec_to_binary(decimal_number):\n",
    "    if decimal_number == 0:\n",
    "        return 0\n",
    "    \n",
    "    return decimal_number % 2 + 10 * dec_to_binary(decimal_number//2)\n",
    "        \n",
    "dec_to_binary(21)"
   ]
  },
  {
   "cell_type": "code",
   "execution_count": null,
   "metadata": {},
   "outputs": [],
   "source": [
    "#simplified code for program to convert decimal number to binary number\n",
    "def binaryform(dec_num):\n",
    "    if dec_num >= 1:\n",
    "        binaryform(dec_num//2)\n",
    "        print(dec_num % 2, end = '')\n",
    "    \n",
    "   \n",
    "\n",
    "binaryform(21)\n",
    " "
   ]
  },
  {
   "cell_type": "code",
   "execution_count": 2,
   "metadata": {},
   "outputs": [
    {
     "name": "stdout",
     "output_type": "stream",
     "text": [
      "[3, 5, 7, 9, 11, 13, 15, 17, 19, 21, 23, 25, 27, 29, 31, 33, 35, 37, 39, 41, 43, 45, 47, 49, 51, 53, 55, 57, 59, 61, 63, 65, 67, 69, 71, 73, 75, 77, 79]\n"
     ]
    }
   ],
   "source": [
    "#2. Write a program that filters odd numbers in a list. Hint: use lambda function\n",
    "def select_odd(startnum, endnum):\n",
    "    num = (range(startnum,endnum))\n",
    "    for i in range(startnum, endnum + 1):\n",
    "        odd_numbers = list(filter(lambda x: x % 2 != 0, num))\n",
    "        return odd_numbers\n",
    "\n",
    "    \n",
    "print(select_odd(2, 80))"
   ]
  },
  {
   "cell_type": "code",
   "execution_count": 3,
   "metadata": {},
   "outputs": [
    {
     "data": {
      "text/plain": [
       "[1, 2, 3, 4, 6]"
      ]
     },
     "execution_count": 3,
     "metadata": {},
     "output_type": "execute_result"
    }
   ],
   "source": [
    "#3. Proper divisors are those numbers by which the number is divisible except the number itself. Write a program to list the proper divisors of\n",
    "# a given number.\n",
    "def find_proper_divisor(number):\n",
    "    proper_divisors = []  # 1 is always a proper divisor\n",
    "    \n",
    "    # Loop through numbers up to half of the given number\n",
    "    for i in range(1, number):\n",
    "        if number % i == 0:\n",
    "            proper_divisors.append(i)\n",
    "    \n",
    "    return proper_divisors\n",
    "\n",
    "find_proper_divisor(12)"
   ]
  },
  {
   "cell_type": "code",
   "execution_count": 4,
   "metadata": {},
   "outputs": [
    {
     "data": {
      "text/plain": [
       "16"
      ]
     },
     "execution_count": 4,
     "metadata": {},
     "output_type": "execute_result"
    }
   ],
   "source": [
    "#4. Write a program function sumPdivisiors that finds the sum of proper divisors of a given number.\n",
    "def sum_prodivisor(number):\n",
    "    proper_divisors = []  # 1 is always a proper divisor\n",
    "    \n",
    "    # Loop through numbers up to half of the given number\n",
    "    for i in range(1, number):\n",
    "        if number % i == 0:\n",
    "            proper_divisors.append(i)\n",
    "    \n",
    "    return sum(proper_divisors)\n",
    "\n",
    "sum_prodivisor(12)"
   ]
  },
  {
   "cell_type": "code",
   "execution_count": null,
   "metadata": {},
   "outputs": [],
   "source": []
  }
 ],
 "metadata": {
  "kernelspec": {
   "display_name": "Python 3",
   "language": "python",
   "name": "python3"
  },
  "language_info": {
   "codemirror_mode": {
    "name": "ipython",
    "version": 3
   },
   "file_extension": ".py",
   "mimetype": "text/x-python",
   "name": "python",
   "nbconvert_exporter": "python",
   "pygments_lexer": "ipython3",
   "version": "3.12.1"
  }
 },
 "nbformat": 4,
 "nbformat_minor": 2
}
